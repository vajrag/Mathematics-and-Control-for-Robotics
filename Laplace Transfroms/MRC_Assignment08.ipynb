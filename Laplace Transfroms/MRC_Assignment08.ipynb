{
 "cells": [
  {
   "cell_type": "markdown",
   "metadata": {},
   "source": [
    "# Hochschule Bonn-Rhein-Sieg\n",
    "\n",
    "# Mathematics for Robotics and Control WS17\n",
    "\n",
    "# Assignment 8: Laplace Transform\n",
    "\n",
    "### Team members: Vajra Ganeshkumar, Jeeveswaran Kishaan"
   ]
  },
  {
   "cell_type": "markdown",
   "metadata": {},
   "source": [
    "### Second-order differential equations [30 points]"
   ]
  },
  {
   "cell_type": "code",
   "execution_count": 4,
   "metadata": {
    "collapsed": true
   },
   "outputs": [],
   "source": [
    "import scipy\n",
    "import numpy as np\n",
    "import sympy as sp\n",
    "import matplotlib.pyplot as plt\n",
    "from scipy import signal\n",
    "sp.init_printing(use_latex=True)"
   ]
  },
  {
   "cell_type": "markdown",
   "metadata": {},
   "source": [
    "## **1**. [15 points] The differential equation governing the voltage $V_C$ across a capacitor $C$ in a driver series RLC circuit is given as (\"Foundations of Analog and Digital Electronic Circuits\" by Agarwal and Lang)\n",
    "\n",
    "\\begin{equation*}\n",
    "    V_C'' + \\frac{R}{L}V_C' + \\frac{1}{LC}V_c = \\frac{1}{LC}V_{IN}\n",
    "\\end{equation*}\n",
    "\n",
    "where $C$ is the capacitance (in farads), $L$ is the inductance (in henrys), $R$ is the resistance (in ohms), and $V_{IN}$ is the input voltage to the circuit. For the purposes of this problem, let's assume that $R = 10k\\Omega$, $C = 0.01\\mu F$, $L = 1000\\mu H$, and $V_{IN} = 5.0V$ and that $V_C(0) = 0$, $V_C'(0) = 0$. Solve the given initial value problem:\n",
    "\n",
    "1. using one of the methods for solving second-order nonhomogeneous differential equations we looked at in the ODE II lab class and\n",
    "2. using the Laplace transform.\n",
    "\n",
    "Are the solutions obtained by the two methods equivalent? Which of the methods was easier to apply?"
   ]
  },
  {
   "cell_type": "markdown",
   "metadata": {},
   "source": [
    "#### Answer ####\n",
    "\n",
    "### 1. Using undetermined coefficients ###\n",
    "\n",
    "After substituting values for R,L and C, the equation will be \n",
    "\n",
    "\\begin{equation*}\n",
    "    V_C'' + \\frac{10\\times10^3 }{1000 \\times 10^{-6} }V_C' + \\frac{1}{1000 \\times 10^{-6} \\times 0.01 \\times 10^{-6}}V_c = \\frac{1}{1000 \\times 10^{-6} \\times 0.01 \\times 10^{-6}}(5) ---(1)\n",
    "\\end{equation*}     \n",
    "\n",
    "* Solving this second order nonhomogeneous differential equation using undetermined co-efficients method <br>\n",
    "The general solution will be of the form $$x(t) =x_c(t)+x_p(t)$$<br>\n",
    "Now, we solve for complementary solution <br>\n",
    "The characteristic equation for the differential equation is $$ k^2+10^7k + 10^{11} =0$$ <br>\n",
    "Solving this equation we get <br> $k_1 = -10010.02005$ <br>\n",
    "$k_2 =-9989989.98$<br>\n",
    "<br>\n",
    "The complementary solution is <br>\n",
    "$$V_c{_c(t)} = c_1e^{-10010.02005t}+c_2e^{-9989989.98t}$$\n",
    "<br>\n",
    "Now we solve for particular solution\n",
    "$$ V_c{_p(t)} = A$$ <br>\n",
    "$V'_c{_p(t)} = 0$ <br>\n",
    "$V''_c{_p(t)}= 0$ <br>\n",
    "<br>\n",
    "By substituting the guesses in the equation(1), we get\n",
    "$$A = 5 \\times 10^{11} $$\n",
    "<br>\n",
    "Therefore the general solution for the differential equation is <br> \n",
    "<br>\n",
    "$$ V(t) = c_1e^{-10010.02005t}+c_2e^{-9989989.98t} + 5  $$\n",
    "\n",
    "### 2. Using the Laplace Transform ###\n",
    "\n",
    "\\begin{equation*}\n",
    "    V_C'' + \\frac{R}{L}V_C' + \\frac{1}{LC}V_c = \\frac{1}{LC}V_{IN}\n",
    "\\end{equation*}\n",
    "\n",
    "Applying the Laplace Transform to the equation above, \n",
    "\n",
    "$$ L\\{Y''\\} + 10^{7} L\\{y'\\} + 10^{11} L\\{y\\} = 5 \\times 10^{11} L\\{1\\} $$\n",
    "\n",
    "$$ [s^2F(s) - sf(0) - f'(0)] + 10^7 [sF(s) - f(0)] + 10^{11} F(s) = \\frac{5 \\times 10^{11}}{s} $$ \n",
    "\n",
    "Plugging in the initial values for $f(0)$ and $f'(0)$, \n",
    "\n",
    "$$ s^2F(s) - 0 - 0 + 10^7 [sF(s) - 0] + 10 ^{11} F(s) = \\frac{5 \\times 10^{11}}{s} $$\n",
    "\n",
    "$$ s^2F(s) + 10^7 sF(s) + 10 ^{11} F(s) = \\frac{5 \\times 10^{11}}{s} $$\n",
    "\n",
    "$$ F(s) = \\frac{5 \\times 10^{11}}{s(s^2+10^7 s + 10^{11})} $$\n",
    "\n",
    "$$ F(s) = \\frac{5}{s} - \\frac{5}{s + 10010.02005} + \\frac{5.015 \\times 10^{-3}}{s + 9989989.98} $$\n",
    "\n",
    "Applying the imverse Laplace Transform,\n",
    "\n",
    "$$ F(t) = 5 -  5 e^{-10010.02005} + 5.015 \\times 10^{-3} e^{-9989989.98} $$\n",
    "\n",
    "\n",
    "## The solutions obtained by using both the mathods are equivalent and for this second order Ordinary Differential Equation, we found the Laplace Transform to be easier to apply. The undetermined coefficients method was not so complex for this problem though!\n",
    "\n",
    "#### Reference: \n",
    "##### Undetermined Coefficients: \n",
    "##### MRC Lab Class Exercises 07 solutions file\n",
    "##### Laplace transform and inverse Laplace Transform: \n",
    "##### http://tutorial.math.lamar.edu/Classes/DE/Laplace_Table.aspx"
   ]
  },
  {
   "cell_type": "code",
   "execution_count": 2,
   "metadata": {},
   "outputs": [
    {
     "data": {
      "image/png": "[encoded data removed]",
      "text/latex": [
       "$$x{\\left (t \\right )} = C_{1} e^{100000 t \\left(-50 - \\sqrt{2490}\\right)} + C_{2} e^{100000 t \\left(-50 + \\sqrt{2490}\\right)} + 5$$"
      ],
      "text/plain": [
       "           100000⋅t⋅(-50 - √2490)       100000⋅t⋅(-50 + √2490)    \n",
       "x(t) = C₁⋅ℯ                       + C₂⋅ℯ                       + 5"
      ]
     },
     "execution_count": 2,
     "metadata": {},
     "output_type": "execute_result"
    }
   ],
   "source": [
    "t = sp.symbols('t')\n",
    "x = sp.Function('x')(t)\n",
    "x_prime = sp.Derivative(x, t)\n",
    "x_prime2 = sp.diff(x, t, 2)\n",
    "eq = x_prime2 + 10**7 * x_prime + 10**11 * x - 5*10**11 \n",
    "sp.dsolve(eq)"
   ]
  },
  {
   "cell_type": "markdown",
   "metadata": {},
   "source": [
    "**2**. [15 points] (Taken from \"Mathematical Methods for Physics and Engineering\" by Riley, Hobson, and Bence) Solve the following initial value problem using the Laplace transform:\n",
    "\n",
    "\\begin{gather*}\n",
    "    y'' + 4y' + 6y = 0 \\\\\n",
    "    y(0) = 1, y'(0) = -4\n",
    "\\end{gather*}"
   ]
  },
  {
   "cell_type": "markdown",
   "metadata": {},
   "source": [
    "#### Answer ####\n",
    "$$L(y'' + 4y' + 6y = 0)$$\n",
    "$$ [s^2Y(s)-sy(0)-y'(0)]+4 [sY(s)-y(0)]+6[Y(s)] = 0 $$ <br>\n",
    "<br>\n",
    "Substituting the initial values in the above equation,<br>\n",
    "<br>\n",
    "$$[s^2Y(s)-s(1)-(-4)] + 4[sY(s)-(1)]+6[Y(s)] = 0$$ <br>\n",
    "Now we solve for Y(s) <br>\n",
    "$$s^2Y(s)-s+4+4sY(s)-4+6Y(s) = 0$$ \n",
    "<br>\n",
    "$$ (s^2+4s+6)Y(s)- s = 0$$\n",
    "<br>\n",
    "$$(s^2+4s+6)Y(s)= s$$\n",
    "<br>\n",
    "$$Y(s)= \\frac{s}{(s^2+4s+6)}$$\n",
    "<br>\n",
    "$$Y(s)= \\frac{s}{(s+2)^2 +6-4} $$\n",
    " <br>\n",
    " $$Y(s)= \\frac{s}{(s+2)^2 +2} $$\n",
    " \n",
    "We now add and substract 2 in the numerator to get the equation in the desired form <br>\n",
    "<br>\n",
    "$$Y(s)= \\frac{s+2-2}{(s+2)^2 +2} $$\n",
    "Rewriting the above equation in the desired form,\n",
    "$$Y(s)= \\frac{s+2}{(s+2)^2 +2} - \\frac{2}{(s+2)^2 +2}$$\n",
    "<br>\n",
    "$$Y(s)= \\frac{s+2}{(s+2)^2 +(\\sqrt 2)^2} - \\frac{2}{(s+2)^2 +(\\sqrt 2)^2}$$\n",
    "<br>\n",
    "By taking the Laplace inverse,\n",
    "<br>\n",
    "$$y(t)= e^{-2t} cos(\\sqrt2 t) - \\sqrt{2} e^{-2t} sin(\\sqrt{2}t)$$\n",
    "\n",
    "#### Reference:\n",
    "##### Laplace transform and inverse Laplace Transform: \n",
    "##### http://tutorial.math.lamar.edu/Classes/DE/Laplace_Table.aspx"
   ]
  },
  {
   "cell_type": "markdown",
   "metadata": {},
   "source": [
    "### Higher-order differential equations [20 points]"
   ]
  },
  {
   "cell_type": "markdown",
   "metadata": {},
   "source": [
    "In the lecture and lab class, we looked at various examples of using the Laplace transform for solving second-order differential equations; however, the transform itself is not limited to this case and can also be applied to higher-order equations. In this exercise, your task is to solve the following third-order initial value problem using the Laplace transform:\n",
    "\n",
    "\\begin{gather*}\n",
    "    y''' + 3y'' - y' - 12y - 10t = \\cos(5t) \\\\\n",
    "    y(0) = 1, \\; y'(0) = 0, \\; y''(0) = 0\n",
    "\\end{gather*}"
   ]
  },
  {
   "cell_type": "markdown",
   "metadata": {},
   "source": [
    "#### Answer ####\n",
    "\\begin{equation*}\n",
    "y''' + 3y'' - y' - 12y - 10t = \\cos(5t)\n",
    "\\end{equation*}\n",
    "\n",
    "Applying the Laplace Transform to the equation above,\n",
    "\n",
    "$$ L\\{y'''\\} + 3L\\{y''\\} - L\\{y'\\} - 12L\\{y\\} - 10L\\{t\\} = L\\{\\cos(5t)\\} $$\n",
    "\n",
    "$$ [s^2F(s) - s^2f(0) - sf'(0) - f''(0)] + 3[s^2F(s) - sf(0) - f'(0)] - [sF(s) - f(0)] - 12F(s) - \\frac{10}{s^2} = \\frac{s}{s^2+25} $$\n",
    "\n",
    "After plugging in the initial values given for $f(0)$, $f'(0)$ and $f''(0)$, \n",
    "\n",
    "$$ s^3F(s) + 3s^2F(s) - sF(s) - 12F(s) - s^2 -3s + 1 - \\frac{10}{s^2} = \\frac{s}{s^2+25} $$\n",
    "\n",
    "$$ F(s) = \\frac{s}{s^2 + 25} + \\frac{10}{s^2} + s^2 + 3s - 1 \\times \\frac{1}{s^3+3s^2-s-12} $$\n",
    "\n",
    "$$ F(s) = \\frac{s^6 + 3s^5 + 24s^4 + 76s^3 - 15s^2 + 250}{(s^2+25)s^2(s^3+3s^2-s-12)} $$\n",
    "\n",
    "$$ F(s) = \\frac{s^6 + 3s^5 + 24s^4 + 76s^3 - 15s^2 + 250}{s^7+25s^5+3s^6+75s^4-s^5 - 25s^3 -12s^4 -300s^2} $$\n",
    "\n",
    "$$ F(s) = \\frac{s^6 + 3s^5 + 24s^4 + 76s^3 - 15s^2 + 250}{s^7+3s^6+24s^5-s^5 + 63 s^4 - 25s^3 -300s^2} $$"
   ]
  },
  {
   "cell_type": "code",
   "execution_count": 5,
   "metadata": {},
   "outputs": [
    {
     "data": {
      "text/plain": [
       "(array([ 0.06944444+0.j        , -0.83333333+0.j        ,\n",
       "         0.58560392+0.j        ,  0.17425358-0.27844561j,\n",
       "         0.17425358+0.27844561j, -0.00177776+0.00265642j,\n",
       "        -0.00177776-0.00265642j]),\n",
       " array([  0.00000000e+00+0.j        ,   0.00000000e+00+0.j        ,\n",
       "          1.70652795e+00+0.j        ,  -2.35326398e+00+1.22228073j,\n",
       "         -2.35326398e+00-1.22228073j,   1.72084569e-15+5.j        ,\n",
       "          1.72084569e-15-5.j        ]),\n",
       " array([ 0.]))"
      ]
     },
     "execution_count": 5,
     "metadata": {},
     "output_type": "execute_result"
    }
   ],
   "source": [
    "b = [0,1,3,24,76,-15,0,250] #coefficients of the numerator\n",
    "a = [1,3,24,63,-25,-300,0,0] #coefficients of the denominator\n",
    "\n",
    "scipy.signal.residue(b, a, tol=0.001, rtype='avg')"
   ]
  },
  {
   "cell_type": "markdown",
   "metadata": {},
   "source": [
    "After solving for the roots of the above equation using scipy, the equation reduces to;\n",
    "\n",
    "$$ F(s) = \\frac{0.069}{s} - \\frac{0.833}{s} + \\frac{0.586}{s - 1.706} + \\frac{0.174 - 0.278j}{s - (-2.35 + 1.22j)} + \\frac{0.174 + 0.278j}{s - (-2.35 - 1.22j)} $$\n",
    "\n",
    "$$ + \\frac{-0.0017 + 0.0026j}{s - (5j)} + \\frac{-0.0017 - 0.0026j}{s - (-5j)} $$\n",
    "\n",
    "Taking the inverse laplace transform;\n",
    "\n",
    "$$ y(t) = f(t) = 0.069 - 0.833 + .058 e^{1.706} + 2 e^{-2.35t} [0.174cos(1.22t) + 0.278 sin(1.22t)] $$\n",
    "$$ - 2 [0.00177cos(5t) + 0.0026 sin(5t)] $$\n",
    "\n",
    "#### Reference:\n",
    "##### Scipy residue function: \n",
    "##### https://docs.scipy.org/doc/scipy-0.14.0/reference/generated/scipy.signal.residue.html\n",
    "##### Laplace transform and inverse Laplace Transform: \n",
    "##### http://tutorial.math.lamar.edu/Classes/DE/Laplace_Table.aspx"
   ]
  },
  {
   "cell_type": "markdown",
   "metadata": {},
   "source": [
    "### Systems of differential equations [30 points]\n",
    "\n",
    "(Taken from \"Mathematical Methods for Physics and Engineering\" by Riley, Hobson, and Bence) Use the Laplace transform to solve, for $t \\geq 0$, the differential equations\n",
    "\n",
    "\\begin{gather*}\n",
    "    x'' + 2x + y = \\cos(t) \\\\\n",
    "    y'' + 2x + 3y = 2\\cos(t)\n",
    "\\end{gather*}\n",
    "\n",
    "which describe a coupled system that starts from rest at the equilibrium position (i.e. $x(0) = 0$, $x'(0) = 0$, $y(0) = 0$, and $y'(0) = 0$)."
   ]
  },
  {
   "cell_type": "markdown",
   "metadata": {},
   "source": [
    "#### Answer ####\n",
    "To solve the system of differential equations using laplace, first we need to find the laplace transform of the equations individually <br>\n",
    "$$  x'' + 2x + y = \\cos(t)$$<br>\n",
    "$$  L[x'' + 2x + y] = L[\\cos(t)]$$<br>\n",
    "$$ L[x'']+L[2x]+L[y]= L[\\cos(t)]$$<br> \n",
    "$$[s^2X(s)-sx(0)-x'(0)]+2[X(s)]+Y(s) = \\frac{s}{s^2+1}$$<br>\n",
    "By substituting the initial values, we get <br>\n",
    "$$ s^2X(s)+2X(s)+Y(s) = \\frac{s}{s^2+1}         ---------(1)$$<br>\n",
    "$$y'' + 2x + 3y = 2\\cos(t)$$<br>\n",
    "$$  L[y'' + 2x + 3y] = L[2\\cos(t)]$$<br>\n",
    "$$ L[y'']+L[2x]+L[3y]= L[2\\cos(t)]$$<br> \n",
    "$$[s^2Y(s)-sy(0)-y'(0)]+2[X(s)]+3[Y(s)] = \\frac{2s}{s^2+1}$$<br>\n",
    "By substituting the initial values, we get <br>\n",
    "$$s^2Y(s)+2X(s)+3Y(s) = \\frac{2s}{s^2+1} $$<br>\n",
    "$$(s^2+3)Y(s)+2X(s) = \\frac{2s}{s^2+1} -------(2)$$<br>\n",
    "Now we need to solve this for one of the transforms.We’ll do this by multiplying the first equation by $(s^2+3)$ and then subtracting.This gives,<br>\n",
    "<br>\n",
    "$$[(s^2+2)(s^2+3)-2]X(s) = \\frac{s(s^2+3)}{s^2+1}-\\frac{2s}{s^2+1}$$<br>\n",
    "Rearranging the above equation we get,<br>\n",
    "$$X(s)= \\frac{s}{(s^2+1)(s^2+4)} -----(3)$$<br>\n",
    "By substituting the above result in equation 2,we get<br>\n",
    "$$Y(s)=\\frac{2s}{(s^2+1)(s^2+4)}-------(4)$$<br>\n",
    "Partially decomposing equation 3,we get<br>\n",
    "$$\\frac{s}{(s^2+1)(s^2+4)} = \\frac{As+B}{(s^2+1)}+\\frac{Cs+D}{(s^2+4)}$$ <br>\n",
    "Solving for A,B,C and D we get,<br>\n",
    "$A =\\frac{1}{3}$<br>\n",
    "$B = 0 $<br>\n",
    "$C = \\frac{-1}{3}$ <br>\n",
    "$D = 0$ <br>\n",
    "Hence,\n",
    "$$\\frac{s}{(s^2+1)(s^2+4)} = \\frac{\\frac{1}{3}s+0}{(s^2+1)}+\\frac{\\frac{-1}{3}s+0}{(s^2+4)}$$ <br>\n",
    "Solving this equation we get,\n",
    "$$\\frac{s}{(s^2+1)(s^2+4)} = \\frac{\\frac{1}{3}s}{(s^2+1)}+\\frac{\\frac{1}{3}s}{(s^2+4)}$$ <br>\n",
    "$$\\frac{s}{(s^2+1)(s^2+4)} = L^{-1}[\\frac{\\frac{1}{3}s}{(s^2+1)}]+L^{-1}[\\frac{\\frac{1}{3}s}{(s^2+4)}]$$ <br>\n",
    "Hence we get,\n",
    "$$x(t) = \\frac{1}{3}(\\cos(t)-\\cos(2t))$$ <br>\n",
    "**********************************************************************************************************\n",
    "Partially decomposing equation 4,we get<br>\n",
    "$$\\frac{2s}{(s^2+1)(s^2+4)} = \\frac{As+B}{(s^2+1)}+\\frac{Cs+D}{(s^2+4)}$$ <br>\n",
    "Solving for A,B,C and D we get,<br>\n",
    "$A =\\frac{2}{3}$<br>\n",
    "$B = 0 $<br>\n",
    "$C = \\frac{-2}{3}$ <br>\n",
    "$D = 0$ <br>\n",
    "Hence,\n",
    "$$\\frac{2s}{(s^2+1)(s^2+4)} = \\frac{\\frac{2}{3}s+0}{(s^2+1)}+\\frac{\\frac{-2}{3}s+0}{(s^2+4)}$$ <br>\n",
    "Solving this equation we get,\n",
    "$$\\frac{2s}{(s^2+1)(s^2+4)} = \\frac{\\frac{2}{3}s}{(s^2+1)}+\\frac{\\frac{-2}{3}s}{(s^2+4)}$$ <br>\n",
    "$$\\frac{2s}{(s^2+1)(s^2+4)} = L^{-1}[\\frac{\\frac{2}{3}s}{(s^2+1)}]+L^{-1}[\\frac{\\frac{-2}{3}s}{(s^2+4)}]$$ <br>\n",
    "Hence we get,\n",
    "$$y(t) = \\frac{2}{3}(\\cos(t)-\\cos(2t))$$ <br>\n",
    "So the solution to the system of differential equations is\n",
    "* $$x(t) = \\frac{1}{3}(\\cos(t)-\\cos(2t))$$ <br>\n",
    "<br>\n",
    "* $$y(t) = \\frac{2}{3}(\\cos(t)-\\cos(2t))$$ <br>\n",
    "\n",
    "#### Reference ####\n",
    "* http://tutorial.math.lamar.edu/Classes/DE/SystemsLaplace.aspx\n",
    "* Laplace transform and inverse Laplace Transform: \n",
    "  http://tutorial.math.lamar.edu/Classes/DE/Laplace_Table.aspx"
   ]
  }
 ],
 "metadata": {
  "anaconda-cloud": {},
  "kernelspec": {
   "display_name": "Python 2",
   "language": "python",
   "name": "python2"
  },
  "language_info": {
   "codemirror_mode": {
    "name": "ipython",
    "version": 2
   },
   "file_extension": ".py",
   "mimetype": "text/x-python",
   "name": "python",
   "nbconvert_exporter": "python",
   "pygments_lexer": "ipython2",
   "version": "2.7.13"
  },
  "name": "_merged"
 },
 "nbformat": 4,
 "nbformat_minor": 1
}
